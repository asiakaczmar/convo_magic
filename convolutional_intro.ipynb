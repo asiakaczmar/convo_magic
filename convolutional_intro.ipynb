{
 "cells": [
  {
   "cell_type": "code",
   "execution_count": 1,
   "metadata": {
    "collapsed": false
   },
   "outputs": [
    {
     "name": "stderr",
     "output_type": "stream",
     "text": [
      "ERROR (theano.sandbox.cuda): nvcc compiler not found on $PATH. Check your nvcc installation and try again.\n"
     ]
    }
   ],
   "source": [
    "import gzip\n",
    "import numpy\n",
    "import pickle\n",
    "\n",
    "import theano\n",
    "from theano import tensor as T\n",
    "from theano.tensor.nnet import conv2d\n",
    "\n",
    "theano.config.exception_verbosity='high'\n",
    "rng = numpy.random.RandomState(23455)"
   ]
  },
  {
   "cell_type": "code",
   "execution_count": 2,
   "metadata": {
    "collapsed": true
   },
   "outputs": [],
   "source": [
    "def get_convolutionaln_function(filters_number, filter_width, filter_height, input_depth):\n",
    "    input_ = T.tensor4(name='input')\n",
    "    w_shp = (filters_number, input_depth, filter_width, filter_height)\n",
    "    #if weights are boud\n",
    "    w_bound = numpy.sqrt(input_depth * filter_width * filter_height)\n",
    "    W = theano.shared( numpy.asarray(\n",
    "                rng.uniform(\n",
    "                    low=-1.0 / w_bound,\n",
    "                    high=1.0 / w_bound,\n",
    "                    size=w_shp),\n",
    "                dtype=input.dtype), name ='W')\n",
    "    b_shp = (2,)\n",
    "    b = theano.shared(numpy.asarray(\n",
    "                rng.uniform(low=-.5, high=.5, size=b_shp),\n",
    "                dtype=input.dtype), name ='b')\n",
    "    # build symbolic expression that computes the convolution of input with filters in w\n",
    "    conv_out = conv2d(input_, W)\n",
    "    return T.nnet.sigmoid(conv_out + b.dimshuffle('x', 0, 'x', 'x'))"
   ]
  },
  {
   "cell_type": "code",
   "execution_count": 3,
   "metadata": {
    "collapsed": false
   },
   "outputs": [],
   "source": [
    "def shared_dataset(data_xy, borrow=True):\n",
    "    data_x, data_y = data_xy\n",
    "    shared_x = theano.shared(numpy.asarray(data_x,\n",
    "                                           dtype=theano.config.floatX),\n",
    "                             borrow=borrow)\n",
    "    shared_y = theano.shared(numpy.asarray(data_y,\n",
    "                                           dtype=theano.config.floatX),\n",
    "                             borrow=borrow)\n",
    "    return shared_x, T.cast(shared_y, 'int32')\n",
    "\n",
    "            \n",
    "\n",
    "def load_data(path='/home/siak/Data/MNIST/mnist.pkl.gz'):\n",
    "    # Load the dataset\n",
    "    with gzip.open(path, 'rb') as f:\n",
    "        train_set, valid_set, test_set = pickle.load(f)\n",
    "\n",
    "   \n",
    "    test_set_x, test_set_y = shared_dataset(test_set)\n",
    "    valid_set_x, valid_set_y = shared_dataset(valid_set)\n",
    "    train_set_x, train_set_y = shared_dataset(train_set)\n",
    "\n",
    "    rval = [(train_set_x, train_set_y), (valid_set_x, valid_set_y),\n",
    "            (test_set_x, test_set_y)]\n",
    "    return rval"
   ]
  },
  {
   "cell_type": "code",
   "execution_count": 4,
   "metadata": {
    "collapsed": false
   },
   "outputs": [],
   "source": [
    "class ConvLayer(object):\n",
    "    \"\"\"Pool Layer of a convolutional network \"\"\"\n",
    "\n",
    "    def __init__(self, rng, input_, filter_shape, input_shape):\n",
    "        \"\"\"\n",
    "        :type filter_shape: tuple or list of length 4\n",
    "        :param filter_shape: (number of output feature maps, num input feature maps,\n",
    "                              filter height, filter width)\n",
    "\n",
    "        :type input_shape: tuple or list of length 4\n",
    "        :param input_shape: (batch size, num input feature maps,\n",
    "                             image height, image width)\n",
    "        \"\"\"\n",
    "\n",
    "        assert input_shape[1] == filter_shape[1]\n",
    "        self.input_ = input_\n",
    "        number_of_inputs = numpy.prod(filter_shape[1:])\n",
    "        number_of_outputs = numpy.prod(filter_shape[0] + numpy.prod(filter_shape[2:]))\n",
    "\n",
    "        self.W = theano.shared(\n",
    "            numpy.asarray(rng.uniform(low=-1, high=1, size=filter_shape),\n",
    "                dtype=theano.config.floatX\n",
    "            ),\n",
    "            borrow=True\n",
    "        )\n",
    "\n",
    "        # the bias is a 1D tensor -- one bias per output feature map\n",
    "        b_values = numpy.zeros((filter_shape[0],), dtype=theano.config.floatX)\n",
    "        self.b = theano.shared(value=b_values, borrow=True)\n",
    "\n",
    "        # convolve input feature maps with filters\n",
    "        conv_out = conv2d(\n",
    "            input=input_,\n",
    "            filters=self.W,\n",
    "            filter_shape=filter_shape,\n",
    "            image_shape=input_shape\n",
    "        )\n",
    "\n",
    "\n",
    "        # add the bias term. Since the bias is a vector (1D array), we first\n",
    "        # reshape it to a tensor of shape (1, n_filters, 1, 1). Each bias will\n",
    "        # thus be broadcasted across mini-batches and feature map\n",
    "        # width & height\n",
    "        self.output = conv_out + self.b.dimshuffle('x', 0, 'x', 'x')\n",
    "\n",
    "        # store parameters of this layer\n",
    "        self.params = [self.W, self.b]\n",
    "\n",
    "        # keep track of model input\n",
    "        self.input_ = input_\n",
    "        \n",
    "        \n",
    "#remember to add zero padding\n",
    "class PoolLayer(object):\n",
    "    def __init__(self, rng, input_, poolsize=(2, 2)):\n",
    "        self.output = downsample.max_pool_2d(\n",
    "            input=input_,\n",
    "            ds=poolsize,\n",
    "            ignore_border=True\n",
    "        )\n",
    "        self.input_ = input_\n",
    "        \n",
    "class ReluLayer(object):\n",
    "    def __init__(self, input_):\n",
    "        self.output = T.tanh(input_)\n",
    "        self.input_ = input_"
   ]
  },
  {
   "cell_type": "code",
   "execution_count": 75,
   "metadata": {
    "collapsed": false
   },
   "outputs": [],
   "source": [
    "class ConvoNet(object):\n",
    "    def initialize_datasets(self):\n",
    "        datasets = load_data()\n",
    "        self.train_set_x, self.train_set_y = datasets[0]\n",
    "        self.valid_set_x, self.valid_set_y = datasets[1]\n",
    "        self.test_set_x, self.test_set_y = datasets[2]\n",
    "\n",
    "        self.n_train_batches = self.train_set_x.get_value(borrow=True).shape[0]\n",
    "        self.n_valid_batches = self.valid_set_x.get_value(borrow=True).shape[0]\n",
    "        self.n_test_batches = self.test_set_x.get_value(borrow=True).shape[0]\n",
    "        self.n_train_batches //= self.batch_size\n",
    "        self.n_valid_batches //= self.batch_size\n",
    "        self.n_test_batches //= self.batch_size\n",
    "    \n",
    "    def __init__(self, batch_size=500):\n",
    "        self.state = numpy.random.RandomState(23455)\n",
    "        self.index = T.lscalar()  # index to a [mini]batch\n",
    "        self.batch_size = batch_size\n",
    "        self.initialize_datasets()\n",
    "        \n",
    "        \n",
    "        x = T.matrix('x')   # the data is presented as rasterized images\n",
    "        #y = T.ivector('y')\n",
    "        \n",
    "        input_shape = (batch_size, 1, 28, 28)\n",
    "        layer0_input = x.reshape(input_shape)\n",
    "        self.layer0 = ConvLayer(self.state, input_=layer0_input, filter_shape=(16, 1, 5, 5), input_shape=input_shape)\n",
    "        \n",
    "        self.layer1 = ReluLayer(input_=self.layer0.output)\n",
    "        self.input_data = self.test_set_x[self.index * batch_size: (self.index + 1) * self.batch_size]\n",
    "        \n",
    "        self.test_model = theano.function(\n",
    "            [self.index],\n",
    "            self.layer1.output,\n",
    "            givens={\n",
    "                x: self.test_set_x[self.index * batch_size: (self.index + 1) * self.batch_size],\n",
    "                #y: self.test_set_y[self.index * batch_size: (self.index + 1) * self.batch_size]\n",
    "        })\n",
    "        \n",
    "        \n"
   ]
  },
  {
   "cell_type": "code",
   "execution_count": 76,
   "metadata": {
    "collapsed": false
   },
   "outputs": [],
   "source": [
    "cn = ConvoNet()"
   ]
  },
  {
   "cell_type": "code",
   "execution_count": 11,
   "metadata": {
    "collapsed": false
   },
   "outputs": [],
   "source": [
    "out = cn.test_model(0)"
   ]
  },
  {
   "cell_type": "code",
   "execution_count": 77,
   "metadata": {
    "collapsed": false
   },
   "outputs": [],
   "source": [
    "from matplotlib import pyplot as plt\n",
    "import PIL\n",
    "from PIL import Image\n",
    "\n",
    "out = cn.test_model(2)\n",
    "im = Image.fromarray(out[0][0])\n",
    "\n",
    "for idx, (x, y) in zip(range(16), window(range(0, 32))):\n",
    "    im = Image.fromarray(out[0][idx] * 256).resize((48, 48), PIL.Image.ANTIALIAS)\n",
    "    fltr = Image.fromarray(cn.layer0.W.get_value()[idx][0] * 256)\n",
    "    fltr.resize((50, 50), PIL.Image.ANTIALIAS)\n",
    "    plt.subplot(16, 2, x+1); plt.axis('off'); plt.imshow(fltr)\n",
    "    plt.subplot(16, 2, y+1); plt.axis('off'); plt.imshow(im)\n",
    "    \n",
    "plt.show()"
   ]
  },
  {
   "cell_type": "code",
   "execution_count": 69,
   "metadata": {
    "collapsed": true
   },
   "outputs": [],
   "source": [
    "def window(l):\n",
    "    it = iter(l)\n",
    "    for x in it:\n",
    "        yield (x, next(it))\n",
    "\n",
    "def special_get_value(x):\n",
    "    y = T.cast(x, 'int32')\n",
    "    return y.eval()\n",
    "    "
   ]
  }
 ],
 "metadata": {
  "kernelspec": {
   "display_name": "Python 2",
   "language": "python",
   "name": "python2"
  },
  "language_info": {
   "codemirror_mode": {
    "name": "ipython",
    "version": 2
   },
   "file_extension": ".py",
   "mimetype": "text/x-python",
   "name": "python",
   "nbconvert_exporter": "python",
   "pygments_lexer": "ipython2",
   "version": "2.7.6"
  }
 },
 "nbformat": 4,
 "nbformat_minor": 0
}
